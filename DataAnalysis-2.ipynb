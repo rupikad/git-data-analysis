{
 "cells": [
  {
   "cell_type": "markdown",
   "metadata": {},
   "source": [
    "# Mining Software Repositories: Data Analysis\n",
    "\n",
    "**Note**: This file contains blank code cells. \n",
    "\n",
    "Code will be provided and discussed during the Tuesday, October 27 class meeting (lecture labeled _\"Quantitative Analysis (Practicum + Lecture)\"_). This file continues from the end of the _Investigating population data_ section in the **DataAnalysis-2** file discussed in the Thursday, October 22 class.\n",
    "\n",
    "Reminder that we are working with the [`godotengine/godot`](https://github.com/godotengine/godot) repository as our example target."
   ]
  },
  {
   "cell_type": "markdown",
   "metadata": {},
   "source": [
    "## Environment Configuration\n",
    "\n",
    "Similar to the past tutorials and in-class demonstration, we need to provide authentication to the GitHub API in order to have a higher rate-limit.\n",
    "\n",
    "> **WARNING**: Treat your tokens like passwords and keep them secret. When using the GitHub API Mining Utility, set the token during instantiation, but do not publish the token in any Python programs or IPython/Jupyter notebooks that are submitted or shared. "
   ]
  },
  {
   "cell_type": "code",
   "execution_count": 4,
   "metadata": {},
   "outputs": [],
   "source": [
    "userName = 'USER'\n",
    "token = 'TOKEN'\n",
    "\n",
    "def iter_print(curr_idx: int, len_rows: int):\n",
    "    if curr_idx % 10 == 0 and curr_idx + 9 <= len_rows:\n",
    "        print(\"Processing indices \" + str(curr_idx) + \"-\" + str(curr_idx + 9) + \"...\")\n",
    "    if curr_idx % 10 == 0 and curr_idx + 9 > len_rows:\n",
    "        print(\"Processing indices \" + str(curr_idx) + \"-\" + str(len_rows) + \"...\")"
   ]
  },
  {
   "cell_type": "code",
   "execution_count": 25,
   "metadata": {},
   "outputs": [],
   "source": [
    "# setup environment (import any needed dependencies)\n",
    "from minerutils import GitHub\n",
    "import pandas\n",
    "import numpy\n",
    "import datetime\n",
    "import re\n",
    "from stop_words import get_stop_words\n",
    "import matplotlib\n",
    "import statistics\n",
    "from scipy.stats import shapiro\n",
    "from sklearn import datasets, linear_model\n",
    "\n",
    "gh = GitHub(userName, token)"
   ]
  },
  {
   "cell_type": "markdown",
   "metadata": {},
   "source": [
    "## Investigating population data\n",
    "\n",
    "This next part is all about using visualization techniques to explore the data. The size of the data typically precludes us from looking at every entry, so we have to rely on visualizations to see patterns. To examine the relationship between different parts of a review comment, let's use the `created_at` field in our `review_comments` DataFrame object to answer the following question:\n",
    "\n",
    "_\"What is the distribution of review comments and the day of the month that they were created?\"_"
   ]
  },
  {
   "cell_type": "code",
   "execution_count": 6,
   "metadata": {
    "collapsed": true,
    "jupyter": {
     "outputs_hidden": true
    }
   },
   "outputs": [
    {
     "name": "stdout",
     "output_type": "stream",
     "text": [
      "Processing indices 0-9...\n",
      "Processing indices 10-19...\n",
      "Processing indices 20-29...\n",
      "Processing indices 30-39...\n",
      "Processing indices 40-49...\n",
      "Processing indices 50-59...\n",
      "Processing indices 60-69...\n",
      "Processing indices 70-79...\n",
      "Processing indices 80-89...\n",
      "Processing indices 90-99...\n",
      "Processing indices 100-109...\n",
      "Processing indices 110-119...\n",
      "Processing indices 120-129...\n",
      "Processing indices 130-139...\n",
      "Processing indices 140-149...\n",
      "Processing indices 150-159...\n",
      "Processing indices 160-169...\n",
      "Processing indices 170-179...\n",
      "Processing indices 180-189...\n",
      "Processing indices 190-199...\n",
      "Processing indices 200-209...\n",
      "Processing indices 210-219...\n",
      "Processing indices 220-229...\n",
      "Processing indices 230-239...\n",
      "Processing indices 240-249...\n",
      "Processing indices 250-259...\n",
      "Processing indices 260-269...\n",
      "Processing indices 270-279...\n",
      "Processing indices 280-289...\n",
      "Processing indices 290-299...\n",
      "Processing indices 300-309...\n",
      "Processing indices 310-319...\n",
      "Processing indices 320-329...\n",
      "Processing indices 330-339...\n",
      "Processing indices 340-349...\n",
      "Processing indices 350-359...\n",
      "Processing indices 360-369...\n",
      "Processing indices 370-379...\n",
      "Processing indices 380-389...\n",
      "Processing indices 390-399...\n",
      "Processing indices 400-409...\n",
      "Processing indices 410-419...\n",
      "Processing indices 420-429...\n",
      "Processing indices 430-439...\n",
      "Processing indices 440-449...\n",
      "Processing indices 450-459...\n",
      "Processing indices 460-469...\n",
      "Processing indices 470-479...\n",
      "Processing indices 480-489...\n",
      "Processing indices 490-499...\n",
      "Processing indices 500-509...\n",
      "Processing indices 510-519...\n",
      "Processing indices 520-529...\n",
      "Processing indices 530-539...\n",
      "Processing indices 540-549...\n",
      "Processing indices 550-559...\n",
      "Processing indices 560-569...\n",
      "Processing indices 570-579...\n",
      "Processing indices 580-589...\n",
      "Processing indices 590-599...\n",
      "Processing indices 600-609...\n",
      "Processing indices 610-619...\n",
      "Processing indices 620-629...\n",
      "Processing indices 630-639...\n",
      "Processing indices 640-649...\n",
      "Processing indices 650-659...\n",
      "Processing indices 660-669...\n",
      "Processing indices 670-679...\n",
      "Processing indices 680-689...\n",
      "Processing indices 690-699...\n",
      "Processing indices 700-709...\n",
      "Processing indices 710-719...\n",
      "Processing indices 720-729...\n",
      "Processing indices 730-739...\n",
      "Processing indices 740-749...\n",
      "Processing indices 750-759...\n",
      "Processing indices 760-769...\n",
      "Processing indices 770-779...\n",
      "Processing indices 780-789...\n",
      "Processing indices 790-799...\n",
      "Processing indices 800-809...\n",
      "Processing indices 810-819...\n",
      "Processing indices 820-829...\n",
      "Processing indices 830-839...\n",
      "Processing indices 840-849...\n",
      "Processing indices 850-859...\n",
      "Processing indices 860-869...\n",
      "Processing indices 870-879...\n",
      "Processing indices 880-889...\n",
      "Processing indices 890-899...\n",
      "Processing indices 900-909...\n",
      "Processing indices 910-919...\n",
      "Processing indices 920-929...\n",
      "Processing indices 930-939...\n",
      "Processing indices 940-949...\n",
      "Processing indices 950-959...\n",
      "Processing indices 960-969...\n",
      "Processing indices 970-979...\n",
      "Processing indices 980-986...\n"
     ]
    }
   ],
   "source": [
    "# initial data collection from GitHub API\n",
    "all_pulls = pandas.DataFrame(gh.get(\"/repos/godotengine/godot/pulls/\"))\n",
    "all_review_comments = pandas.DataFrame()\n",
    "\n",
    "# get review comment updates from GitHub API\n",
    "for index, row in all_pulls.iterrows():\n",
    "    iter_print(index, len(all_pulls))\n",
    "    comments = pandas.DataFrame(gh.get(row[\"review_comments_url\"], params={\"since\": \"2016-01-01T00:00:00Z\"}))\n",
    "    comments[\"pull_number\"] = row[\"number\"]\n",
    "    all_review_comments = pandas.concat([all_review_comments, comments], ignore_index=True)\n",
    "\n",
    "# handle those datetime encoding issues\n",
    "all_review_comments[\"created_at\"] = pandas.to_datetime(all_review_comments[\"created_at\"], format=\"%Y-%m-%dT%H:%M:%S\")\n",
    "all_review_comments[\"updated_at\"] = pandas.to_datetime(all_review_comments[\"updated_at\"], format=\"%Y-%m-%dT%H:%M:%S\")\n",
    "\n",
    "# calculate the duration gap between created_at and updated_at\n",
    "all_review_comments[\"updated_gap\"] = all_review_comments[\"updated_at\"] - all_review_comments[\"created_at\"]\n",
    "\n",
    "# find the day of the month for the created_at field\n",
    "all_review_comments[\"day_of_month\"] = all_review_comments[\"created_at\"].dt.strftime(\"%d\")"
   ]
  },
  {
   "cell_type": "markdown",
   "metadata": {},
   "source": [
    "Let's quickly answer the question using the full set of pull requests and review comments."
   ]
  },
  {
   "cell_type": "code",
   "execution_count": 9,
   "metadata": {},
   "outputs": [
    {
     "name": "stdout",
     "output_type": "stream",
     "text": [
      "986\n",
      "1632\n"
     ]
    }
   ],
   "source": [
    "# how much data are we working with?\n",
    "print(len(all_pulls))\n",
    "print(len(all_review_comments))"
   ]
  },
  {
   "cell_type": "code",
   "execution_count": 11,
   "metadata": {},
   "outputs": [
    {
     "data": {
      "text/plain": [
       "<matplotlib.axes._subplots.AxesSubplot at 0x2074bba6320>"
      ]
     },
     "execution_count": 11,
     "metadata": {},
     "output_type": "execute_result"
    },
    {
     "data": {
      "image/png": "[encoded data removed]",
      "text/plain": [
       "<Figure size 432x288 with 1 Axes>"
      ]
     },
     "metadata": {
      "needs_background": "light"
     },
     "output_type": "display_data"
    }
   ],
   "source": [
    "# what does the bar chart plot look like now?\n",
    "all_review_comments.groupby(\"day_of_month\").size().plot(x='day of month', y='index', kind='bar', xlim=(0,31))"
   ]
  },
  {
   "cell_type": "markdown",
   "metadata": {},
   "source": [
    "Remember our previous observations when we looked at review comments in the `3.2` branch:\n",
    "\n",
    "* 24th of the month receives the most review comments\n",
    "* nobody adds review comments in the middle of the month\n",
    "\n",
    "Do these still hold when we look at the full set of review comments in the `godotengine/godot` repository?"
   ]
  },
  {
   "cell_type": "markdown",
   "metadata": {},
   "source": [
    "## Describing the data"
   ]
  },
  {
   "cell_type": "markdown",
   "metadata": {},
   "source": [
    "Now that we have an initial idea about the review comment data, we might be wondering about overall population. This is where descriptive statistics comes in.\n",
    "\n",
    "If we are curious about which day of the month is the most frequent, what we are really asking about is the population's _mode_ statistic."
   ]
  },
  {
   "cell_type": "code",
   "execution_count": null,
   "metadata": {},
   "outputs": [],
   "source": []
  },
  {
   "cell_type": "markdown",
   "metadata": {},
   "source": [
    "**Note:** The code above uses the [`pandas.DataFrame.loc`](https://pandas.pydata.org/pandas-docs/stable/reference/api/pandas.DataFrame.loc.html) function instead of the [`pandas.DataFrame.iloc`](https://pandas.pydata.org/pandas-docs/stable/reference/api/pandas.DataFrame.iloc.html) function. The `loc` function is used to access groups of rows or columns by label(s), whereas, the `iloc` function is used to access rows and columns by position index."
   ]
  },
  {
   "cell_type": "markdown",
   "metadata": {},
   "source": [
    "## Finding relationships in the data"
   ]
  },
  {
   "cell_type": "markdown",
   "metadata": {},
   "source": [
    "We previously looked at the duration between when a review comment was created and updated (`updated_gap`). We might be wondering whether the day of the month has any relationship to the duration of the update gap. Perhaps the beginning of the month is very busy for contributors to the `godotengine/godot` repository, so we might make a hypothesis that the duration of the update gap is bigger for review comments that were created at the beginning of the month.\n",
    "\n",
    "Let's formalize this hypothesis into a few questions that we can answer:\n",
    "\n",
    "1. _\"Is there a relationship between the day of the month that a review comment was created and the duration until it was last updated?\"_\n",
    "2. _\"Does the day of the month that a review comment was created cause a larger gap in the duration until it was last updated?\"_"
   ]
  },
  {
   "cell_type": "markdown",
   "metadata": {},
   "source": [
    "Both of these questions require a different type of statistical testing. For the first question, we are concerned with determining if the `day_of_month` and `updated_gap` fields are related. For the second question, we are concerned with how these two fields are related (i.e. when the `day_of_month` values goes up, what happens to the `updated_gap` value?\n",
    "\n",
    "Most statistical tests require data to be in numerical form before running any tests, so let's first deal with the fact that the `day_of_month` is stored in `object` format and the `updated_gap` is stored in a `timedelta64` format:"
   ]
  },
  {
   "cell_type": "code",
   "execution_count": 14,
   "metadata": {},
   "outputs": [
    {
     "data": {
      "text/html": [
       "<div>\n",
       "<style scoped>\n",
       "    .dataframe tbody tr th:only-of-type {\n",
       "        vertical-align: middle;\n",
       "    }\n",
       "\n",
       "    .dataframe tbody tr th {\n",
       "        vertical-align: top;\n",
       "    }\n",
       "\n",
       "    .dataframe thead th {\n",
       "        text-align: right;\n",
       "    }\n",
       "</style>\n",
       "<table border=\"1\" class=\"dataframe\">\n",
       "  <thead>\n",
       "    <tr style=\"text-align: right;\">\n",
       "      <th></th>\n",
       "      <th>day_of_month</th>\n",
       "      <th>updated_gap</th>\n",
       "      <th>duration</th>\n",
       "    </tr>\n",
       "  </thead>\n",
       "  <tbody>\n",
       "    <tr>\n",
       "      <th>0</th>\n",
       "      <td>27</td>\n",
       "      <td>0 days 06:36:13</td>\n",
       "      <td>23773.0</td>\n",
       "    </tr>\n",
       "    <tr>\n",
       "      <th>1</th>\n",
       "      <td>27</td>\n",
       "      <td>0 days 04:30:54</td>\n",
       "      <td>16254.0</td>\n",
       "    </tr>\n",
       "    <tr>\n",
       "      <th>2</th>\n",
       "      <td>27</td>\n",
       "      <td>0 days 02:47:34</td>\n",
       "      <td>10054.0</td>\n",
       "    </tr>\n",
       "    <tr>\n",
       "      <th>3</th>\n",
       "      <td>26</td>\n",
       "      <td>0 days 14:55:34</td>\n",
       "      <td>53734.0</td>\n",
       "    </tr>\n",
       "    <tr>\n",
       "      <th>4</th>\n",
       "      <td>27</td>\n",
       "      <td>0 days 00:00:01</td>\n",
       "      <td>1.0</td>\n",
       "    </tr>\n",
       "    <tr>\n",
       "      <th>...</th>\n",
       "      <td>...</td>\n",
       "      <td>...</td>\n",
       "      <td>...</td>\n",
       "    </tr>\n",
       "    <tr>\n",
       "      <th>1627</th>\n",
       "      <td>31</td>\n",
       "      <td>41 days 07:08:30</td>\n",
       "      <td>3568110.0</td>\n",
       "    </tr>\n",
       "    <tr>\n",
       "      <th>1628</th>\n",
       "      <td>3</td>\n",
       "      <td>37 days 22:38:49</td>\n",
       "      <td>3278329.0</td>\n",
       "    </tr>\n",
       "    <tr>\n",
       "      <th>1629</th>\n",
       "      <td>13</td>\n",
       "      <td>28 days 06:55:37</td>\n",
       "      <td>2444137.0</td>\n",
       "    </tr>\n",
       "    <tr>\n",
       "      <th>1630</th>\n",
       "      <td>3</td>\n",
       "      <td>592 days 02:24:04</td>\n",
       "      <td>51157444.0</td>\n",
       "    </tr>\n",
       "    <tr>\n",
       "      <th>1631</th>\n",
       "      <td>17</td>\n",
       "      <td>0 days 13:19:23</td>\n",
       "      <td>47963.0</td>\n",
       "    </tr>\n",
       "  </tbody>\n",
       "</table>\n",
       "<p>1632 rows × 3 columns</p>\n",
       "</div>"
      ],
      "text/plain": [
       "      day_of_month       updated_gap    duration\n",
       "0               27   0 days 06:36:13     23773.0\n",
       "1               27   0 days 04:30:54     16254.0\n",
       "2               27   0 days 02:47:34     10054.0\n",
       "3               26   0 days 14:55:34     53734.0\n",
       "4               27   0 days 00:00:01         1.0\n",
       "...            ...               ...         ...\n",
       "1627            31  41 days 07:08:30   3568110.0\n",
       "1628             3  37 days 22:38:49   3278329.0\n",
       "1629            13  28 days 06:55:37   2444137.0\n",
       "1630             3 592 days 02:24:04  51157444.0\n",
       "1631            17   0 days 13:19:23     47963.0\n",
       "\n",
       "[1632 rows x 3 columns]"
      ]
     },
     "execution_count": 14,
     "metadata": {},
     "output_type": "execute_result"
    }
   ],
   "source": [
    "all_review_comments['day_of_month'] = all_review_comments['day_of_month'].astype(int)\n",
    "all_review_comments['duration'] = all_review_comments['updated_gap'].dt.total_seconds()\n",
    "\n",
    "all_review_comments[['day_of_month', 'updated_gap', 'duration']]"
   ]
  },
  {
   "cell_type": "markdown",
   "metadata": {},
   "source": [
    "#### Correlation Test\n",
    "\n",
    "To answer the first question, we need to run a correlation test between `day_of_month` and `duration` values. All correlation tests have assumptions that must be met by the data in order for reliable results to be returned. For correlation tests, the biggest factor is whether the data has a normal distribution.\n",
    "\n",
    "**Normality** refers to the distribution of data, which needs to conform to a normal distribution (also known as a Gaussian distribution). This curve appears as a symmmetrical bell curve when plotted in 2-dimensions.\n",
    "\n",
    "We can check for normality using a separate test, [Shapiro-Wilkes test of normality](https://en.wikipedia.org/wiki/Shapiro%E2%80%93Wilk_test), which uses a null-hypothesis that the population is normally distributed. Thus, if the `p`-value is less than the chosen alpha level (`0.05`), then the null hypothesis is rejected and there is evidence that the data tested are not normally distributed."
   ]
  },
  {
   "cell_type": "code",
   "execution_count": 19,
   "metadata": {},
   "outputs": [
    {
     "name": "stdout",
     "output_type": "stream",
     "text": [
      "Shapiro-Wilk Normality Test: statistics=0.459, p=0.0\n"
     ]
    }
   ],
   "source": [
    "coefficient = 0\n",
    "\n",
    "stat, p = shapiro(all_review_comments[[\"day_of_month\", 'duration']])\n",
    "shap = 'Shapiro-Wilk Normality Test: statistics={}, p={}'.format(round(stat, 3), p)\n",
    "print(shap)"
   ]
  },
  {
   "cell_type": "markdown",
   "metadata": {},
   "source": [
    "We can now select the most appropriate correlation test based on the results of our normality test.\n",
    "\n",
    "* For data that is normally distributed, we can run [Pearson's Rho Correlation Coefficient](https://en.wikipedia.org/wiki/Pearson_correlation_coefficient).\n",
    "* For data that is not normally distributed, we can run [Spearman's Rank Correlation Coefficient](https://en.wikipedia.org/wiki/Spearman%27s_rank_correlation_coefficient)."
   ]
  },
  {
   "cell_type": "markdown",
   "metadata": {},
   "source": [
    "If we are using Pearson's Rho Correlation Coefficient, then we have some additional assumptions that must be met:\n",
    "\n",
    "1. **Level of Measurement**: Level of measurement refers to each variable. For a Pearson correlation, each variable should be continuous. If one or both of the variables are ordinal in measurement, then a Spearman correlation could be conducted instead.\n",
    "2. **Related Pairs**: Related pairs refers to the pairs of variables. Each participant or observation should have a pair of values. So if the correlation was between weight and height, then each observation used should have both a weight and a height value.\n",
    "3. **Absence of Outliers**: Absence of outliers refers to not having outliers in either variable. Having an outlier can skew the results of the correlation by pulling the line of best fit formed by the correlation too far in one direction or another. Typically, an outlier is defined as a value that is 3.29 standard deviations from the mean, or a standardized value of less than ±3.29.\n",
    "4. **Linearity**: Linearity refers to the shape of the values formed by the scatterplot. For linearity, a “straight line” relationship between the variable should be formed. If a line were to be drawn between all the dots going from left to right, the line should be straight and not curved.\n",
    "\n",
    "So does our data meet these assumptions?"
   ]
  },
  {
   "cell_type": "markdown",
   "metadata": {},
   "source": [
    "Because we transformed the `updated_gap` into total seconds from `created_at` to `updated_at`, this is a continuous measure. Similarly, the `day_of_month` are continuous in the sense that all values from day 1 to day 31 are possible. So we meet the **Level of Measurement** assumption."
   ]
  },
  {
   "cell_type": "markdown",
   "metadata": {},
   "source": [
    "Each `duration` and `day_of_month` are associated with only one review comment, therefore each observation has one pair of values. So we meet the **Related Pairs** assumption."
   ]
  },
  {
   "cell_type": "markdown",
   "metadata": {},
   "source": [
    "The final two assumptions are a bit trickier to answer without some additional exploration. So let's create some plots that will allow us to evaluate whether the data meets these assumptions."
   ]
  },
  {
   "cell_type": "code",
   "execution_count": 20,
   "metadata": {},
   "outputs": [
    {
     "data": {
      "text/plain": [
       "<matplotlib.axes._subplots.AxesSubplot at 0x2075fca6f98>"
      ]
     },
     "execution_count": 20,
     "metadata": {},
     "output_type": "execute_result"
    },
    {
     "data": {
      "image/png": "[encoded data removed]",
      "text/plain": [
       "<Figure size 432x288 with 1 Axes>"
      ]
     },
     "metadata": {
      "needs_background": "light"
     },
     "output_type": "display_data"
    }
   ],
   "source": [
    "all_review_comments.plot(x='day_of_month', y='duration', kind='scatter')"
   ]
  },
  {
   "cell_type": "markdown",
   "metadata": {},
   "source": [
    "With this plot, we are checking for two assumptions: **absence of outliers**, and **linearity of relationship**. Do we have both in this plot?"
   ]
  },
  {
   "cell_type": "code",
   "execution_count": 39,
   "metadata": {},
   "outputs": [
    {
     "name": "stdout",
     "output_type": "stream",
     "text": [
      "total obs before excluding outliners: 1632\n",
      "total obs after excluding outliers: 1632\n",
      "total obs after excluding duration outliers: 1622\n"
     ]
    }
   ],
   "source": [
    "def excludeOutliers(df: pandas.DataFrame, col: str) -> pandas.DataFrame:\n",
    "    return df[numpy.abs(df[col] - df[col].mean()) <= (3.29 * df[col].std())]\n",
    "\n",
    "data_copy = all_review_comments.copy(deep=True)\n",
    "print('total obs before excluding outliners:', len(data_copy))\n",
    "\n",
    "data_copy = excludeOutliers(data_copy, 'day_of_month')\n",
    "print('total obs after excluding outliers:', len(data_copy))\n",
    "\n",
    "data_copy = excludeOutliers(data_copy, 'duration')\n",
    "print('total obs after excluding duration outliers:', len(data_copy))"
   ]
  },
  {
   "cell_type": "markdown",
   "metadata": {},
   "source": [
    "After excluding outliers, we meet the **Absense of Outliers** assumption.\n",
    "\n",
    "But what about the **Linearity** assumption?"
   ]
  },
  {
   "cell_type": "code",
   "execution_count": 41,
   "metadata": {},
   "outputs": [
    {
     "data": {
      "text/plain": [
       "<matplotlib.axes._subplots.AxesSubplot at 0x20750feeda0>"
      ]
     },
     "execution_count": 41,
     "metadata": {},
     "output_type": "execute_result"
    },
    {
     "data": {
      "image/png": "[encoded data removed]",
      "text/plain": [
       "<Figure size 432x288 with 1 Axes>"
      ]
     },
     "metadata": {
      "needs_background": "light"
     },
     "output_type": "display_data"
    }
   ],
   "source": [
    "data_copy.plot(x='day_of_month', y='duration', kind='scatter')"
   ]
  },
  {
   "cell_type": "markdown",
   "metadata": {},
   "source": [
    "Now, let's wrap this all up and run the correct correlation test for our data:"
   ]
  },
  {
   "cell_type": "code",
   "execution_count": 42,
   "metadata": {},
   "outputs": [
    {
     "name": "stdout",
     "output_type": "stream",
     "text": [
      "Coefficient: 0.043228176256392616\n",
      "No correlation\n"
     ]
    }
   ],
   "source": [
    "coef = all_review_comments[['day_of_month', \"duration\"]].corr(method='spearman')['day_of_month']['duration']\n",
    "print(\"Coefficient:\", coef)\n",
    "\n",
    "\n",
    "if coef > 0.5:\n",
    "    print(\"There's a correlation btwn day of month and duration\")\n",
    "else:\n",
    "    print('No correlation')"
   ]
  },
  {
   "cell_type": "markdown",
   "metadata": {},
   "source": [
    "#### Linear Regression Test\n",
    "\n",
    "Typically, you would stop there. Linear regression is used to determine how two factors effect each other in a relationship. If there is no correlation between those factors, there can't really be a direction of effect between those same factors.\n",
    "\n",
    "But in the interest of exploration, let's briefly look at linear regressions. The assumptions for running any linear regression test is:\n",
    "\n",
    "1. **Linear relationship**: There exists a linear relationship between the independent variable, x, and the dependent variable, y.\n",
    "2. **Independence**: The residuals are independent. In particular, there is no correlation between consecutive residuals in time series data.\n",
    "3. **Homoscedasticity**: The residuals have constant variance at every level of x.\n",
    "4. **Normality**: The residuals of the model are normally distributed.\n",
    "\n",
    "Which ones have we already shown that our data does not meet?"
   ]
  },
  {
   "cell_type": "code",
   "execution_count": 46,
   "metadata": {},
   "outputs": [
    {
     "data": {
      "image/png": "[encoded data removed]",
      "text/plain": [
       "<Figure size 432x288 with 1 Axes>"
      ]
     },
     "metadata": {
      "needs_background": "light"
     },
     "output_type": "display_data"
    },
    {
     "data": {
      "text/plain": [
       "0.013523342888650092"
      ]
     },
     "execution_count": 46,
     "metadata": {},
     "output_type": "execute_result"
    }
   ],
   "source": [
    "plt = matplotlib.pyplot\n",
    "\n",
    "# x = all_review_comments[['day_of_month']]\n",
    "# y= all_review_comments[['duration']]\n",
    "\n",
    "\n",
    "x = data_copy[['day_of_month']]\n",
    "y= data_copy[['duration']]\n",
    "\n",
    "regr = linear_model.LinearRegression()\n",
    "regr.fit(x,y)\n",
    "\n",
    "plt.scatter(x, y, color=\"black\")\n",
    "plt.plot(x, regr.predict(x), color='blue', linewidth=3)\n",
    "plt.show()\n",
    "\n",
    "regr.score(x,y)"
   ]
  },
  {
   "cell_type": "markdown",
   "metadata": {},
   "source": [
    "When plotting a linear regression model on data that meets all of the assumptions, you will typically find a much more consistent fit between the regression line and the data points. Additionally, there are multiple ways of transforming the data in order to find a better fitting model. However, at some point it becomes an expedition in `p`-hacking."
   ]
  },
  {
   "cell_type": "code",
   "execution_count": null,
   "metadata": {},
   "outputs": [],
   "source": []
  }
 ],
 "metadata": {
  "celltoolbar": "Tags",
  "kernelspec": {
   "display_name": "Python 3",
   "language": "python",
   "name": "python3"
  },
  "language_info": {
   "codemirror_mode": {
    "name": "ipython",
    "version": 3
   },
   "file_extension": ".py",
   "mimetype": "text/x-python",
   "name": "python",
   "nbconvert_exporter": "python",
   "pygments_lexer": "ipython3",
   "version": "3.7.2"
  }
 },
 "nbformat": 4,
 "nbformat_minor": 4
}
